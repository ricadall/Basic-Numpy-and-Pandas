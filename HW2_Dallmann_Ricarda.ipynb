{
  "nbformat": 4,
  "nbformat_minor": 0,
  "metadata": {
    "colab": {
      "name": "HW2_Dallmann_Ricarda.ipynb",
      "provenance": [],
      "collapsed_sections": [],
      "include_colab_link": true
    },
    "kernelspec": {
      "name": "python3",
      "display_name": "Python 3"
    }
  },
  "cells": [
    {
      "cell_type": "markdown",
      "metadata": {
        "id": "view-in-github",
        "colab_type": "text"
      },
      "source": [
        "<a href=\"https://colab.research.google.com/github/ricadall/Basic-Numpy-and-Pandas/blob/main/HW2_Dallmann_Ricarda.ipynb\" target=\"_parent\"><img src=\"https://colab.research.google.com/assets/colab-badge.svg\" alt=\"Open In Colab\"/></a>"
      ]
    },
    {
      "cell_type": "markdown",
      "metadata": {
        "id": "bNsIruOzI4iF"
      },
      "source": [
        "## **Homework 2**\n",
        "\n",
        "### Create a copy of the notebook to start answering the questions. Name your notebook in the format HW2_lastname_firstname.ipynb to facilitate the grading process. \n",
        "\n",
        "### Answer all the questions, test your code to ensure there are no errors and the results are as expected. Once you have answered all the questions, save the final copy, then go to File-> click on Download.ipynb. Once the local copy has been downloaded, submit your file on Blackboard under the corresponding assignment section. Also provide us a link to your notebook during submission. \n",
        "\n",
        "### **The due date of this homework is 02/12/2021 (Friday).**\n",
        "\n",
        "### Please ensure you follow all the steps mentioned in the homework.\n",
        "\n",
        "### All the questions have a sample input and output to help you understand the question.\n",
        "\n",
        "### You can submit your solutions any number of times until the deadline.\n"
      ]
    },
    {
      "cell_type": "markdown",
      "metadata": {
        "id": "U3Yz3s2uio1F"
      },
      "source": [
        "**Q1. Lets consider your data is like the below cell:**\n",
        "\n",
        "**Q1-1**: Write a program that create a dataframe from the data.\n",
        "\n",
        "**Q1-2:** Select people that are psychologist or teacher and their number of cars is greater than their family size.\n",
        "\n",
        "**Q1-3:** Select people who have at most 2 family members and at least 1 car.\n",
        "\n",
        "**Q1-4:** Write a code that get number of unique jobs in this dataset.\n",
        "\n",
        "\n",
        "\n"
      ]
    },
    {
      "cell_type": "code",
      "metadata": {
        "id": "yR8lcOtcjxXD"
      },
      "source": [
        "data = {\"name\": [\"Joseph\", \"Jacob\", \"Sam\", \"Jesee\", \"Ryan\", \"Lisa\", \"Lee\"],\n",
        "        \"job\": [\"teacher\", \"psychologist\", \"data scientist\", \"software developer\", \"psychologist\", \"psychologist\", \"teacher\"],\n",
        "        \"family_size\": [3, 2, 1, 4, 2, 3, 2],\n",
        "        \"num_cars\": [3, 1, 1, 2, 2, 4, 1]}"
      ],
      "execution_count": null,
      "outputs": []
    },
    {
      "cell_type": "code",
      "metadata": {
        "id": "Youi5qMaP34p",
        "colab": {
          "base_uri": "https://localhost:8080/"
        },
        "outputId": "dcf03fc9-b762-42e0-8b72-32fee7c9b9a7"
      },
      "source": [
        "data = {\"name\": [\"Joseph\", \"Jacob\", \"Sam\", \"Jesee\", \"Ryan\", \"Lisa\", \"Lee\"],\n",
        "        \"job\": [\"teacher\", \"psychologist\", \"data scientist\", \"software developer\", \"psychologist\", \"psychologist\", \"teacher\"],\n",
        "        \"family_size\": [3, 2, 1, 4, 2, 3, 2],\n",
        "        \"num_cars\": [3, 1, 1, 2, 2, 4, 1]}\n",
        "        \n",
        "# Type your solution here\n",
        "import pandas as pd\n",
        "\n",
        "# Q1-1: Write a program that create a dataframe from the data.\n",
        "frame = pd.DataFrame(data)\n",
        "\n",
        "# Q1-2: Select people that are psychologist or teacher and their number of cars is greater than their family size.\n",
        "frame[((frame[\"job\"]== \"psychologist\") | (frame[\"job\"]== \"teacher\")) & ( frame[\"num_cars\"] > frame[\"family_size\"])]\n",
        "\n",
        "# Q1-3: Select people who have at most 2 family members and at least 1 car.\n",
        "frame[(frame[\"family_size\"] <= 2) & ( frame[\"num_cars\"] >= 1)]\n",
        "\n",
        "# Q1-4: Write a code that get number of unique jobs in this dataset.\n",
        "unique_jobs = []\n",
        "for job in frame[\"job\"]:\n",
        "  if not job in unique_jobs:\n",
        "    unique_jobs.append(job)\n",
        "print(len(unique_jobs))"
      ],
      "execution_count": null,
      "outputs": [
        {
          "output_type": "stream",
          "text": [
            "4\n",
            "['teacher', 'psychologist', 'data scientist', 'software developer']\n"
          ],
          "name": "stdout"
        }
      ]
    },
    {
      "cell_type": "markdown",
      "metadata": {
        "id": "Ow6nG8k4l91X"
      },
      "source": [
        "**Q2. Lets consider you have two series like the below cell. Compute the mean of weights of each fruit.**"
      ]
    },
    {
      "cell_type": "code",
      "metadata": {
        "id": "u-X_DoOzVLLB"
      },
      "source": [
        "import numpy as np\n",
        "fruit = pd.Series(np.random.choice(['apple', 'banana', 'carrot'], 10))\n",
        "weights = pd.Series(np.linspace(1, 10, 10))"
      ],
      "execution_count": null,
      "outputs": []
    },
    {
      "cell_type": "code",
      "metadata": {
        "id": "S419nzYnpU__",
        "colab": {
          "base_uri": "https://localhost:8080/"
        },
        "outputId": "61162748-79b2-4b19-e345-63cd65a94516"
      },
      "source": [
        "# problem:\n",
        "import numpy as np\n",
        "import pandas as pd\n",
        "fruit = pd.Series(np.random.choice(['apple', 'banana', 'carrot'], 10))\n",
        "weights = pd.Series(np.linspace(1, 10, 10))\n",
        "\n",
        "# Type your solution here\n",
        "\n",
        "joined = weights.groupby(fruit) # I discovered the groupby function on pandas.pydata.org (Link: https://pandas.pydata.org/pandas-docs/stable/reference/api/pandas.DataFrame.groupby.html)\n",
        "print(\"Means:\")\n",
        "joined.mean() # I discovered the mean function on pandas.pydata.org (Link: https://pandas.pydata.org/pandas-docs/stable/reference/api/pandas.core.groupby.GroupBy.mean.html)\n"
      ],
      "execution_count": null,
      "outputs": [
        {
          "output_type": "stream",
          "text": [
            "Means:\n"
          ],
          "name": "stdout"
        },
        {
          "output_type": "execute_result",
          "data": {
            "text/plain": [
              "apple     6.5\n",
              "banana    3.5\n",
              "carrot    5.5\n",
              "dtype: float64"
            ]
          },
          "metadata": {
            "tags": []
          },
          "execution_count": 72
        }
      ]
    },
    {
      "cell_type": "markdown",
      "metadata": {
        "id": "g4lKaPIhtVrt"
      },
      "source": [
        "**Q3. Consider the below course_name array:**\n",
        "\n",
        "**Q3-1**: Write a NumPy program to get the indices of the sorted elements of **course_name** array.\n",
        "\n",
        "**Q3-2:** Write numpy code to check whether each element of **course_name** array starts with \"P\".\n"
      ]
    },
    {
      "cell_type": "code",
      "metadata": {
        "id": "RUP_jp2KtVrx"
      },
      "source": [
        "import numpy as np\n",
        "course_name = np.array(['Python', 'JS', 'examples', 'PHP', 'html'])"
      ],
      "execution_count": null,
      "outputs": []
    },
    {
      "cell_type": "code",
      "metadata": {
        "id": "U1i27POxv-o_",
        "colab": {
          "base_uri": "https://localhost:8080/"
        },
        "outputId": "c25bf397-5a22-4c11-a6ab-c621b4bbf1a7"
      },
      "source": [
        "import numpy as np\n",
        "course_name = np.array(['Python', 'JS', 'examples', 'PHP', 'html'])\n",
        "\n",
        "# Type your solution here\n",
        "\n",
        "# Q3-1: Write a NumPy program to get the indices of the sorted elements of course_name array.\n",
        "print(\"Original array: \", course_name)\n",
        "print(\"The indices of the sorted elements of course_name array:\",np.argsort(course_name))\n",
        "\n",
        "# Q3-2: Write numpy code to check whether each element of course_name array starts with \"P\"\n",
        "\n",
        "# Solution #1 for Q3.2 (I did two solutions because I wasnt sure which way you wanted it to be presented, i.e as a list of booleans or just printed out)\n",
        "p_start = True\n",
        "for el in course_name:\n",
        "  print(el, \"starts with \\\"P\\\"\", end = \": \")\n",
        "  if el.startswith(\"P\"):\n",
        "    print(\"True\")\n",
        "  else:\n",
        "    print(\"False\")\n",
        "\n",
        "# Solution #1 for Q3.2\n",
        "print(np.char.startswith(course_name, \"P\")) # Note: I discovered the .char.startswith() function on datacamp\n"
      ],
      "execution_count": null,
      "outputs": [
        {
          "output_type": "stream",
          "text": [
            "Original array:  ['Python' 'JS' 'examples' 'PHP' 'html']\n",
            "The indices of the sorted elements of course_name array: [1 3 0 2 4]\n",
            "Python starts with \"P\": True\n",
            "JS starts with \"P\": False\n",
            "examples starts with \"P\": False\n",
            "PHP starts with \"P\": True\n",
            "html starts with \"P\": False\n",
            "[ True False False  True False]\n"
          ],
          "name": "stdout"
        }
      ]
    },
    {
      "cell_type": "markdown",
      "metadata": {
        "id": "sUFItNFOxwkz"
      },
      "source": [
        "**Q4. Consider the below student_id array:**\n",
        "\n",
        "**Q4-1:** Reverse the **student_id** array. Print both original and reversed array.\n",
        "\n",
        "**Q4-2:** Get the 3-largest values of **student_id** array."
      ]
    },
    {
      "cell_type": "code",
      "metadata": {
        "id": "Rl5qzEjFv0nw"
      },
      "source": [
        "import numpy as np\n",
        "student_id = np.array([1023, 5202, 6230, 1671, 1682, 5241, 4532])"
      ],
      "execution_count": null,
      "outputs": []
    },
    {
      "cell_type": "code",
      "metadata": {
        "id": "EetvHGrUxMCC",
        "colab": {
          "base_uri": "https://localhost:8080/"
        },
        "outputId": "3285975f-c5d4-4684-e2db-dd12bc9ef4bd"
      },
      "source": [
        "import numpy as np\n",
        "student_id = np.array([1023, 5202, 6230, 1671, 1682, 5241, 4532])\n",
        "# Type your solution here\n",
        "\n",
        "# Q4-1: Reverse the student_id array. Print both original and reversed array.\n",
        "rev_student_id = np.flip(student_id, 0)\n",
        "print(\"Original:\", student_id)\n",
        "print(\"Reversed:\", rev_student_id)\n",
        "\n",
        "# Q4-2: Get the 3-largest values of student_id array.\n",
        "asc_student_id = np.sort(student_id)\n",
        "desc_student_id = np.flip(asc_student_id, 0)\n",
        "print(\"The 3-largest values of student_id array:\", desc_student_id[:3])"
      ],
      "execution_count": null,
      "outputs": [
        {
          "output_type": "stream",
          "text": [
            "Original: [1023 5202 6230 1671 1682 5241 4532]\n",
            "Reversed: [4532 5241 1682 1671 6230 5202 1023]\n",
            "The 3-largest values of student_id array: [6230 5241 5202]\n"
          ],
          "name": "stdout"
        }
      ]
    },
    {
      "cell_type": "markdown",
      "metadata": {
        "id": "uKRyDVuW6B19"
      },
      "source": [
        "# **Q5: Write a numpy program to print sum of all the multiples of 3 or 5 below 100**"
      ]
    },
    {
      "cell_type": "code",
      "metadata": {
        "id": "ZIixq1gz6OK3",
        "colab": {
          "base_uri": "https://localhost:8080/"
        },
        "outputId": "b97a42bd-3495-4abf-c1ae-f6b9d0d36018"
      },
      "source": [
        "# Type your solution here\n",
        "import numpy as np\n",
        "\n",
        "arr = np.arange(1, 100) # get array from 1-99\n",
        "# print(arr)\n",
        "\n",
        "# make an array containing only multiples of 3 or 5\n",
        "mult = arr[(arr % 5 == 0) | (arr % 3 == 0)]\n",
        "\n",
        "# find sum of numbers in multi\n",
        "sum = 0\n",
        "for num in mult:\n",
        "  sum += num\n",
        "print(sum)\n"
      ],
      "execution_count": null,
      "outputs": [
        {
          "output_type": "stream",
          "text": [
            "2318\n",
            "2318\n"
          ],
          "name": "stdout"
        }
      ]
    },
    {
      "cell_type": "markdown",
      "metadata": {
        "id": "2CWJOsP24c34"
      },
      "source": [
        "**Q6. Consider the below array.**\n",
        "\n",
        "Q6.1. Write a code to swap column 1 with column 2.\n",
        "\n",
        "Q6.2. Write a code to swap row 0 with row 1."
      ]
    },
    {
      "cell_type": "code",
      "metadata": {
        "id": "3OG6X5Eg5KSM",
        "colab": {
          "base_uri": "https://localhost:8080/"
        },
        "outputId": "3b8d2adb-036f-44f1-fc1a-4310c1e765c4"
      },
      "source": [
        "import numpy as np\n",
        "\n",
        "arr = np.arange(12).reshape(3,4)\n",
        "print(arr)"
      ],
      "execution_count": null,
      "outputs": [
        {
          "output_type": "stream",
          "text": [
            "[[ 0  1  2  3]\n",
            " [ 4  5  6  7]\n",
            " [ 8  9 10 11]]\n"
          ],
          "name": "stdout"
        }
      ]
    },
    {
      "cell_type": "code",
      "metadata": {
        "id": "Q-Q91DpO5YYW",
        "colab": {
          "base_uri": "https://localhost:8080/"
        },
        "outputId": "3700da80-a491-4923-e43a-ed63b70c63fb"
      },
      "source": [
        "import numpy as np\n",
        "\n",
        "arr = np.arange(12).reshape(3,4)\n",
        "print(\"Original array:\")\n",
        "print(arr)\n",
        "\n",
        "# Type your solution here\n",
        "\n",
        "# Q6.1. Write a code to swap column 1 with column 2.\n",
        "arr[:,[1, 2]] = arr[:,[2, 1]]\n",
        "print(\"Array with when you swap column 1 with column 2:\")\n",
        "print(arr)\n",
        "\n",
        "# Q6.2. Write a code to swap row 0 with row 1\n",
        "arr[[0, 1],:] = arr[[1, 0],:]\n",
        "print(\"Array with when you swap row 0 with row 1:\")\n",
        "print(arr)"
      ],
      "execution_count": null,
      "outputs": [
        {
          "output_type": "stream",
          "text": [
            "[[ 0  1  2  3]\n",
            " [ 4  5  6  7]\n",
            " [ 8  9 10 11]]\n",
            "Array with when you swap column 1 with column 2:\n",
            "[[ 0  2  1  3]\n",
            " [ 4  6  5  7]\n",
            " [ 8 10  9 11]]\n",
            "Array with when you swap column 1 with column 2:\n",
            "[[ 4  6  5  7]\n",
            " [ 0  2  1  3]\n",
            " [ 8 10  9 11]]\n"
          ],
          "name": "stdout"
        }
      ]
    }
  ]
}